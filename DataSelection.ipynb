{
 "cells": [
  {
   "cell_type": "markdown",
   "metadata": {},
   "source": [
    "# Data Selection"
   ]
  },
  {
   "cell_type": "markdown",
   "metadata": {},
   "source": [
    "The data sample you are given has pre-selection cuts applied to select a sample of events\n",
    "which is mostly the events we are interested in analysing, known as 'signal', with relatively low number of events from other 'background' processes. The most important pre-selection cuts that have been applied are listed in the table below, and explained here:\n",
    "<ul>\n",
    "<li>Momentum. The three final state tracks should all have significant momentum (p)\n",
    "and momentum in the plane transverse to the beam direction (p<sup>T</sup>) as they originate\n",
    "from the decay of a B meson which has a relatively high mass, whereas tracks from background processess will typically have low momenta.</li>\n",
    "<li> B Mass. The mass of the candidate B meson can be computed from the measured\n",
    "momenta of the final state particles (under an assumption as to whether they are\n",
    "kaons or pions) and events with masses close to the known mass of the B meson are selected.</li>\n",
    "<li>Impact Parameters. The B meson has a mean lifetime \u001c",
    " of 1.6 &times; 10<sup>12</sup> s, and\n",
    "will typically travel a distance of a few mm in LHCb. The distance between\n",
    "its production point where the proton beams collide, known as the primary vertex,\n",
    "and the decay vertex into the three final state tracks is key to identifying a clean\n",
    "sample of events. The closest distance of approach of the final state tracks to the\n",
    "primary vertex is known as the impact parameter (IP). These tracks will thus have\n",
    "a significant IP. The IP\u001f &chi;<sup>2</sup> is a measure of whether the track is compatible with aving come from the primary vertex, a track from a background process that originates at the primary vertex will typically have a low IP\u001f &chi;<sup>2</sup>.\n",
    "</ul>\n",
    "<p>\n",
    "The sample has not had any identification of the final state particles applied and hence\n",
    "contains all combinations of charged pions and kaons. The event selection is common\n",
    "between all the channels where a B meson is decaying into three final state tracks as the kinematics of all the channels will be very similar. Using the information from the particle identification systems of the detector, particularly the RICH detectors to separate pions and kaons, the decay channel that is to be studied can be separated out. This is a statistical process, there will still be a significant misidentification rate of the final state particle as pion/kaon in order to retain a high efficiency for selecting the signal.\n",
    "\n",
    "<img src=\"../Images/SelectionTable.png\" width=\"700\" />\n"
   ]
  }
 ],
 "metadata": {
  "kernelspec": {
   "display_name": "Python 2",
   "language": "python",
   "name": "python2"
  },
  "language_info": {
   "codemirror_mode": {
    "name": "ipython",
    "version": 2
   },
   "file_extension": ".py",
   "mimetype": "text/x-python",
   "name": "python",
   "nbconvert_exporter": "python",
   "pygments_lexer": "ipython2",
   "version": "2.7.11"
  }
 },
 "nbformat": 4,
 "nbformat_minor": 0
}
