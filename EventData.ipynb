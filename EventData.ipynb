{
 "cells": [
  {
   "cell_type": "markdown",
   "metadata": {},
   "source": [
    "# Format of Event Data"
   ]
  },
  {
   "cell_type": "markdown",
   "metadata": {},
   "source": [
    "The root files you have been given contains information about many different events. For each event it contains properties that have been measured for that event that may be useful in your analysis.\n",
    "\n",
    "Three particles have been identified in each event that are candidates for paticles that were prodcued in the decay of the B mesons. The information for these three particles is labelled, H1_xx, H2_xx, H3_xx. Here 'xx' is the particular property of the particle. H1_PX is the X component of the momentum of particle 1. The corresponding variables for particle 2 and 3 are called H2_PX and H3_PX.\n",
    "\n",
    "The variables that are available in this analysis are listed in the following table.\n",
    "\n",
    "<img src=\"../Images/Variables.png\" width=\"700\" />"
   ]
  },
  {
   "cell_type": "markdown",
   "metadata": {},
   "source": [
    "For the real data all variables are filled for every event. For the simulated data not all variables are filled.\n",
    "\n",
    "Not all the variables listed in the table are required for completing this project. Additional variables have been included that were importnat in the selection of the data sample and might be useful for extenstions of the project.\n",
    "\n",
    "For those who have studied Physics formally some these variables will be familiar but likely some of these will not be.\n",
    "\n",
    "Variables that you will need for this analysis project are explained further here:\n",
    "\n",
    "<ul>\n",
    "<li> H1_PX: The measured momentum component of the first particle (H1) in the x-direction. Replace X with Y and X for the other variables. You will use the momenta when computing energies and masses. </li>\n",
    "\n",
    "<li> H1_ProbK: An estimate of how likely the first particle is to be a kaon. In this analysis you are looking to analyse the decays of B mesons into three kaons. Hence you will wish to select events where the probabilities of the three paticles each being a kaon is high. </li>\n",
    "\n",
    "<li> H1_ProbPi: An estimate of how likely the first particle is to be a pion. Since in your analysis the final state particles should not be pions, you will wish to select events where the probabilities of the three paticles each being a pion is low. </li>\n",
    "\n",
    "<li> H1_Charge: The electric charge (in units of the electron charge) of the first particle.</li>\n",
    "\n",
    "<li>H1_isMuon: A binary value which states if the particle is likely to be a muon. As you wish your particles to be kaons you can check that this is false (0).</li> \n",
    "</ul>\n",
    "\n",
    "The additional variables that are provided are:\n",
    "<ul>\n",
    "<li>B_FlightDistance: The collision point of the protons is found from the tracks that are reconstructed that come from that point. The decay vertex of the B meson is reconstructed by looking for the point at which the three final state tracks meet. The distance between the collision point, where the B meson is created, and the decay point of the B meson, where the three final state particles are created, is the flight distance of the B meson. The B meson is a short lived particle and will typically travel a few mm to a cm before decaying.</li>\n",
    "\n",
    "<li>B_VertexChi2: You can find the B meson decay point (vertex) by finding the point at which these three final state tracks meet. In practice the measured tracks will not come from an exact point as they have measurement errors, but the best estimate of the point is found. The &chi;<sup>2</sup> (Chi2 or [chisquare](https://en.wikipedia.org/wiki/Chi-squared_distribution)) is a statistical measure measure of how compatible the three tracks are from having come from a common point. A large value (greater than 1) suggests that the tracks do not really come from a common point, and hence it is more likely that they are not from a real B meson decay.  \n",
    "</li>\n",
    "\n",
    "<li>H1_IPChi2: The impact parameter is defined as the perpendicular distance between the path of the particle and the proton-proton collision vertex. The three final state tracks come from the B meson decay point and hence should not point back to the collision vertex. Most of the tracks in an event are produced at the collision point and thus if a track does point back to the collision vertex it is an indication that it might not come from the B meson decay. The &chi;<sup>2</sup> is a measure of how compatible this track is from coming from the collision vertex taking the uncertainties into account.</li>\n",
    "</ul>"
   ]
  }
 ],
 "metadata": {
  "kernelspec": {
   "display_name": "Python 2",
   "language": "python",
   "name": "python2"
  },
  "language_info": {
   "codemirror_mode": {
    "name": "ipython",
    "version": 2
   },
   "file_extension": ".py",
   "mimetype": "text/x-python",
   "name": "python",
   "nbconvert_exporter": "python",
   "pygments_lexer": "ipython2",
   "version": "2.7.11"
  }
 },
 "nbformat": 4,
 "nbformat_minor": 0
}
