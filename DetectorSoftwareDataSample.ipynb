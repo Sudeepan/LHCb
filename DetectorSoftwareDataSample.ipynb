{
 "cells": [
  {
   "cell_type": "markdown",
   "metadata": {},
   "source": [
    "# Information about the Detector, the Software and the Data Sample"
   ]
  },
  {
   "cell_type": "markdown",
   "metadata": {},
   "source": [
    "The detector of the LHCb experiment is a forward facing single-arm detector.  This detector specialises in the study of matter and anti-matter differences through analysing *b* (beauty) or *c* (charm) quark (and anti-quark) decay processes. \n",
    "\n",
    "<img src=\"../Images/Lhcbview.jpg\" width=\"700\" />\n",
    "\n",
    "The diagram shows the layout of the LHCb experiment. The two LHC beams of protons (*p*) travel along the horizontal pipe in the centre of the detector, from the left-hand side and from the right-hand side, and collide in the Vertex Locator at the left-hand side of the diagram.\n",
    "\n",
    "<img src=\"../Images/lhcb_photo.jpg\" width=\"700\" />\n",
    "\n",
    "The photograph shows the actually detector in its cavern at the LHC, approximately 100m underground. The image has been reflected to be in the same orientation as the layout diagram.\n",
    "\n",
    "The co-ordinate system used is that the z axis describes the path of one of the proton beams into the detector (left to right). The y axis is vertical and the x axis is perpendicular to the page.\n",
    "\n",
    "At LHC energies the *b* (beauty) or *c* (charm) quarks are produced with a strong forward boost along the directions f the proton beams, and those that fly through the detector are measured. The B mesons, which contains the *b* quark, decays a few mm (to a cm) into the detector. The decay products (in this project K<sup>+</sup> and K<sup>-</sup>) are measured in the detector and their path through the detector is reconstructed. Combining these decay products we can reconstruct the B meson.\n",
    "\n",
    "<img src=\"../Images/PosterBsMuMuCrop2-reduced.png\" width=\"700\" />\n",
    "<img src=\"../Images/PosterBsMuMuCrop1-reduced.png\" width=\"700\" />\n",
    "\n",
    "These event display images shows tracks reconstructed in a candidate  B<sub>s</sub> → &mu;<sup>+</sup>&mu;<sup>-</sup> event. The first evidence of this decay was one of the major highlights from the LHC run 1 as it places significvant constraints on new physics in [Supersymmetry](https://en.wikipedia.org/wiki/Supersymmetry) models. You can read the paper [here](http://lhcbproject.web.cern.ch/lhcbproject/Publications/LHCbProjectPublic/LHCb-PAPER-2014-049.html).\n",
    "The top image shows all reconstructed tracks through the full detector, the full width of the plot corresponds to a distance of around 20m. The lower image shows a zoom on the VELO region. This shows that many tracks point back to the primary vertex where the pp collision occurred. The reconstructed muon tracks, highlighted in magneta, coincide at another point 14mm away from the primary vertex. The B<sub>s</sub> meson was produced at the primary vertex and then decayed into two muons at this secondary decay vertex.\n",
    "\n",
    "<p>\n",
    "The detector includes a high-precision tracking system which detects charged particles. A silicon-strip vertex detector, known as the vertex locator ([VELO](http://lhcb-public.web.cern.ch/lhcb-public/en/detector/VELO-en.html)), surrounds the *pp* interaction region and measures at least three (typically ten) points on each track. This allows the position of the *pp* interaction point (primary vertex) to be reconstructed and the position of the decay of the hadron containing the b quark (secondary vertex) to be measured. The charged particles passing through the silicon create electron-hole pairs and these are drifted in an electric field across the silicon, and a signal obtained. A large-area silicon-strip detector, known as TT, has four detection layers and is located upstream of the [dipole magnet](http://lhcb-public.web.cern.ch/lhcb-public/en/detector/Magnet-en.html). Charged particles are bent by the magnetic force, and the dipole magnet has a bending power of about 4 Tm. The direction of the magnetic field is regularly reversed. This allows systematic uncertainties from oppositely charged particles bending into different regions of the detector, with potentially different detection efficiencies, to be controlled. Three stations of [silicon-strip detectors](http://lhcb-public.web.cern.ch/lhcb-public/en/detector/Trackers-en.html) (each with four detection layers) and straw drift tubes are placed downstream of the magnet and are known as T1,T2,T3. The straw drift tubes are filled with a gas (Ar & CO2) that is ionised by the charged particles passing through, and this charge is drifted under an electric field to be measured.\n",
    "<p>\n",
    "The measured points are used to reconstruct the track of charged particles. The momentum of the charged particle can be obtained from the bend of the track. The combined tracking system provides a momentum measurement with a relative uncertainty that varies from 0.5% at low momentum, p, to 1% at 200 GeV/c, and an impact parameter measurement with a resolution of 20 μm for charged particles with large transverse momentum, p<sup>T<\\sup>.\n",
    "<p>\n",
    "Different types of charged hadrons (pions, kaons, and protons) are distinguished using information from two [ring-imaging Cherenkov detectors](http://lhcb-public.web.cern.ch/lhcb-public/en/detector/RICH-en.html). Charged particles travel through volumes of gases (CF<sup>4</sup>, C<sup>4</sup>F<sup>10</sup>) or ultra-light solids (aerogel) faster than the local phase velocity of light in those materials, and radiate photons. This is known as the Cherenkov effect. These photons are measured and the angle at which the light is given off is directly related to the velocity of the particle. By combining the velocity information with the momentum information, the particle mass can be deduced and used to determine the type of the charged hadron.\n",
    "<p>\n",
    "Photon, electron and hadron candidates are identified by a calorimeter system consisting of scintillating-pad (SPD) and preshower (PS) detectors, an electromagnetic calorimeter (ECAL) and a hadronic calorimeter (HCAL). The [calorimeters](http://lhcb-public.web.cern.ch/lhcb-public/en/detector/Calorimeters-en.html) are based on alternating layers of iron and scintillator. The particles interact and are absorbed in the iron and the amount of scintillation light detected allows the reconstruction of the energy of the\n",
    "paticles. Photons and electrons are primarily absorbed in the electromagnetic calorimeter. Hadrons are primarily absorbed in the hadron calorimeter. Only neutrinos, which remain undetected, and muons typically pass through the calorimeters. Muons are identified by a [muon system](http://lhcb-public.web.cern.ch/lhcb-public/en/detector/Muon-en.html) (M1–5) composed of alternating layers of iron and multiwire proportional chambers.\n",
    "<p>\n",
    "Around 11 MHz of bunch-bunch crossings contain one or more inelastic pp interactions in the data sample studied here. The size of the event data produced by the LHCb detector means that this could only be written to disc at a rate of 3 kHz. The system used to determine which events to store is known as the [trigger](http://lhcb-public.web.cern.ch/lhcb-public/en/Data%20Collection/Triggers2-en.html). It consists of a hardware stage, based on information from the calorimeter and muon systems, followed by a software stage, which applies a full event reconstruction. The software stage is run in a large farm of multiprocessor CPUs which run 26,110 copies of the program. The trigger aims to retain as high efficiency as possible for the decays channels that will be studied while rejecting events of low interest.\n",
    "<p>\n",
    "The data is then processed at CERN and by computers in an worldwide computing system known as the GRID. The data undergoes preselection to write out events of interest for paticular physics processes. Individual groups of analysts then write programs, using the LHCb software framework, to perform further selection and reduce the data size storing only the variables of primary interest. The data that you are provided with in the experiment is of this form.\n",
    "<p>\n",
    "Simulations, in which the physics process under study or background processes are also generated for comparison with the data. These may also include detailed simulations of the response of the detector, so that the simulation data is directly comparable with the data. Simplified simulation data, not including detector repsonse, is provided here.\n",
    "<p>\n",
    "The data sample provided has been selected by the trigger and offline selection from approximately 10<sup>14</sup> proton-proton beam crossings that occurred at LHCb in 2011. The sample provided includes only the most important reconstructed variables needed to perform this analysis in order to reduce the data file size and decrease the processing time for your analysis. The samples contain 3.4 million (5.1 million) events corresponding to an integrated [luminosity](https://en.wikipedia.org/wiki/Luminosity_scattering_theory) of 434 pb<sup>−1</sup> (584 pb<sup>−1</sup>) with the magnet in the “up” (“down”) polarity.\n",
    "\n",
    "\n"
   ]
  }
 ],
 "metadata": {
  "kernelspec": {
   "display_name": "Python 2",
   "language": "python",
   "name": "python2"
  },
  "language_info": {
   "codemirror_mode": {
    "name": "ipython",
    "version": 2
   },
   "file_extension": ".py",
   "mimetype": "text/x-python",
   "name": "python",
   "nbconvert_exporter": "python",
   "pygments_lexer": "ipython2",
   "version": "2.7.11"
  }
 },
 "nbformat": 4,
 "nbformat_minor": 0
}
