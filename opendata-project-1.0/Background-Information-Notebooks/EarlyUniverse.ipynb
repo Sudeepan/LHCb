{
 "cells": [
  {
   "cell_type": "markdown",
   "metadata": {},
   "source": [
    "# Particle Physics and the Early Universe\n",
    "\n",
    "At the very beginning of time, the universe went through eras in which it consisted only of elementary particles. In the picture below, you can see this within the GUT (Grand Unification) Era, the Electroweak Era and the Particle Era. \n",
    "\n",
    "<img src=\"../Images/bigbang_timeline.jpg\" width=\"700\" />\n",
    "\n",
    "These particles then combined to form nuclei and atoms and these collected to form the stars and galaxies that we see now 13.8 billion years later. Experiments at paticle colliders such as the Large Hadron Collider allow us to recreate conditions similar to those in the early universe and study the behaviour of elementary particles. This allows us to study the behaviour of the particles and antiparticles in the early universe that led to the matter dominated universe.\n",
    "\n",
    "If you would like to find out more, here is some information about the [Early Universe](http://home.cern/about/physics/early-universe)."
   ]
  },
  {
   "cell_type": "code",
   "execution_count": null,
   "metadata": {
    "collapsed": true
   },
   "outputs": [],
   "source": []
  }
 ],
 "metadata": {
  "kernelspec": {
   "display_name": "Python 2",
   "language": "python",
   "name": "python2"
  },
  "language_info": {
   "codemirror_mode": {
    "name": "ipython",
    "version": 2
   },
   "file_extension": ".py",
   "mimetype": "text/x-python",
   "name": "python",
   "nbconvert_exporter": "python",
   "pygments_lexer": "ipython2",
   "version": "2.7.11"
  }
 },
 "nbformat": 4,
 "nbformat_minor": 0
}
