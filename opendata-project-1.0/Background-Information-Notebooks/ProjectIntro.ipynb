{
 "cells": [
  {
   "cell_type": "markdown",
   "metadata": {},
   "source": [
    "# Particle Physics Focus of this Project"
   ]
  },
  {
   "cell_type": "markdown",
   "metadata": {},
   "source": [
    "In this project you will analyse particles containing the *b* (or beauty) quark and its anti-particles. To find out more about these you can read the background information links about the [Standard Model](http://home.cern/about/physics/standard-model). \n",
    "\n",
    "These *b* quarks were common shortly after the Big Bang but are not a constituent of the matter around us in the universe today. Particle colliders like the LHC are used to produce *b* quarks, as well as their antimatter counterparts, the *anti-b* quarks.\n",
    "\n",
    "Quarks are not observed on their own, they combine into composite particles. Combinations of three quarks are known as baryons: protons and neutrons are the most common baryons. Similiarly the corresponding anti-quarks can combine into the antimatter equivalents anti-protons and anti-neutrons.  Combinations of a quark and an anti-quark are known as mesons: pions and kaons are the most common mesons. All particles compsed of quarks and anti-quarks (baryons and mesons) are known as hadrons.\n",
    "\n",
    "In this project we will be studying the decays of the B<sup>+</sup> and B<sup>-</sup> mesons. A B<sup>+</sup> has an electric charge of +1 unit and is composed of an *u* (up) quark and an *anti-b* (beauty) quark. A B<sup>-</sup> is the anti-particle of the B<sup>+</sup>. It has an electric charge of -1 unit and is composed of an *anti-u* (up) quark and a *b* (beauty) quark.\n",
    "\n",
    "The B<sup>+</sup> and B<sup>-</sup> mesons have a short average lifetime (10<sup>-12</sup> s) and decay via the weak force into other particles. In this analysis we will study the decays of the B<sup>+</sup> and B<sup>-</sup> mesons into three charged kaons (K<sup>+</sup> or K<sup>-</sup>). The K<sup>+</sup> is a meson composed of a *u* and and *anti-s* (strange) quark, and has +1 unit of charge. The K<sup>-</sup> is its anti-particle. \n",
    "\n",
    "The  B<sup>+</sup> and B<sup>-</sup> mesons are not observed directly in the detector, due to their short lifetime. Even travelling at close to the speed of light, and accounting for the effects of relativity, they only travel for a few mm in the detector before decaying. The charged kaons have long enough lifetimes (10<sup>-8</sup>s) that do pass through the LHCb detector. We measure the prperties of these kaons in the detector, for example determining their momentum and identifying them, and it is the measurments of these kaons we will use for the analysis.\n",
    "\n",
    "In this project you will study the decays\n",
    "<p>\n",
    "B<sup>+</sup> → K<sup>+</sup>K<sup>+</sup>K<sup>−</sup>\n",
    "\n",
    "and the anti-particle equivalent\n",
    "\n",
    "<p>\n",
    "B<sup>-</sup> → K<sup>+</sup>K<sup>-</sup>K<sup>−</sup>.\n",
    "\n",
    "\n",
    "## Particle diagrams\n",
    "\n",
    "Particle physicists use diagrams to represent the decays of paticles. These are known as [Feynmna diagrams](https://en.wikipedia.org/wiki/Feynman_diagram) or quark flow diagrams. Here is an example diagram for the decay that you will study.\n",
    "\n",
    "<img src=\"../Images/FeynDiag.png\" width=\"300\" />\n",
    "\n",
    "\n",
    "\n",
    "The image above shows the quarks as lines on the diagram (*u* ,*s*, *b*) The anti-quarks are indicated with a bar over them. Time is running from left to right on the diagram. The brackets show how the particles are combined into mesons. The process starts with a B<sup>+</sup> on the left-hand side. This decays into the three charged kaons, two K<sup>+</sup> and one K<sup>−</sup> on the right-hand side. The W<sup>+</sup> is the carrier of the weak force, the anti-*b* quark is decaying via the weak force in this process.\n",
    "\n",
    "This image shows only the positive B meson decays. The negative B meson decays would look the same but with every particle replaced by its anti-particle: every quark would be replaced by its anti-quark and vice versa, and 'plus' signs are replaced with 'minus' signs and vice versa. \n",
    "\n",
    "## Project\n",
    "\n",
    "You will start by reconstructing the momentum, energy and mass of the B meson using the measured momenta of the kaons. You will then look for differences in the rates at which the B<sup>+</sup> decay process and the B<sup>-</sup> decay process happen: this would be a difference in the behaviour of matter and anti-matter (CP violation). You will then separate the decays by their characteristics into 'local' regions and identify intermediate particles that are produced during the decays. Finally you will make a clear observation of matter anti-mater differences by looking at the differences between the local regions for the B<sup>+</sup> and B<sup>-</sup> decay. If you manage to work all the way through the project to the end you will observe CP violation yourself !\n",
    "\n",
    "## Extra background information\n",
    "<ul>\n",
    "<li> Why do we think there is Matter Antimatter Asymmetry in the Universe? \n",
    "Have a look at some [CERN information on Matter Antimatter Asymmetry](http://press.web.cern.ch/backgrounders/matterantimatter-asymmetry). </li>\n",
    "\n",
    "<li> What is CP violation? \n",
    "You can find out more [here](http://www.symmetrymagazine.org/article/october-2005/explain-it-in-60-seconds) or in more detail [here](Background-Information-Notebooks/CPViolationInsert.ipynb).</li>\n",
    "\n",
    "<li> How do particle physics experiments allow us to study the conditions of the early universe ?\n",
    "[Here is a brief overview of the stages of the universe](Background-Information-Notebooks/EarlyUniverse.ipynb).</li>\n",
    "<li> What are the [Elementary Particles](https://en.wikipedia.org/wiki/Elementary_particle) of which all matter and antimatter is made? CERN has also produced a [short video about the Standard Model of Particle Physics](https://www.youtube.com/watch?v=V0KjXsGRvoA).</li>\n",
    "<li>How does the [LHCb Experiment](http://lhcb-public.web.cern.ch/lhcb-public/en/Physics/Beauty-en.html) conduct its research on matter antimatter asymmetries ?</li>\n",
    "</ul>"
   ]
  }
 ],
 "metadata": {
  "kernelspec": {
   "display_name": "Python 2",
   "language": "python",
   "name": "python2"
  },
  "language_info": {
   "codemirror_mode": {
    "name": "ipython",
    "version": 2
   },
   "file_extension": ".py",
   "mimetype": "text/x-python",
   "name": "python",
   "nbconvert_exporter": "python",
   "pygments_lexer": "ipython2",
   "version": "2.7.11"
  },
  "widgets": {
   "state": {},
   "version": "1.1.2"
  }
 },
 "nbformat": 4,
 "nbformat_minor": 0
}
