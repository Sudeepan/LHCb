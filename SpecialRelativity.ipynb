{
 "cells": [
  {
   "cell_type": "markdown",
   "metadata": {},
   "source": [
    "# Special Relativity and Invariant Mass "
   ]
  },
  {
   "cell_type": "markdown",
   "metadata": {},
   "source": [
    "<img src=\"https://upload.wikimedia.org/wikipedia/commons/5/50/Albert_Einstein_(Nobel).png\" width=\"200\" />\n",
    "\n",
    "Special relativity describes the relationship between time and space. It is based on two postulates.\n",
    "\n",
    "**Einstein's First Postulate**: The laws of physics are same in every inertial frame of reference.\n",
    "\n",
    "**Einstein's Second Postulate**: The speed of light in vacuum is the same in all inertial frames of reference and is independent of the motion of the source. \n",
    "\n",
    "It has a range of consequences, including length contraction, time dilation and the universal speed limit of the speed of light. The element that we are concerned with for this project is\n",
    "that it proposes an equivalence between mass and energy.\n",
    "\n",
    "<div align=\"justify\">The mass-energy equivalence is expressed by the famous formula E=mc<sup>2</sup>, where c is the speed of light in a vacuum. This gives the rest energy, E, of a body of rest mass, or invariant mass, m.  The rest energy and rest mass are the energy and mass that the body have when it is not moving. \n",
    "\n",
    "The full formula includes the kinetic energy component of the energy, the energy that the body has due to its motion. This is the version we need. It relates the energy, E, of a particle; the invariant mass, m, of the particle; and the magnitude of the momentum, p, of the particle. Momentum is a vector quantity and here we are concerned with the magnitude of the vector. The expression is\n",
    "\n",
    "<center> $E^2 = (pc)^2 + (mc^2)^2$ </center>\n",
    "\n",
    "In this project we are working in [natural units](https://en.wikipedia.org/wiki/Natural_units). We express energies in MeV, momenta in MeV/c, and massess in MeV/c<sup>2</sup>. We do not have to have to worry about the factors of 'c', and you can work with the simplified version of the equation\n",
    "\n",
    "<center> $E^2 = p^2 + m^2$ </center>\n"
   ]
  },
  {
   "cell_type": "code",
   "execution_count": null,
   "metadata": {
    "collapsed": true
   },
   "outputs": [],
   "source": []
  }
 ],
 "metadata": {
  "kernelspec": {
   "display_name": "Python 2",
   "language": "python",
   "name": "python2"
  },
  "language_info": {
   "codemirror_mode": {
    "name": "ipython",
    "version": 2
   },
   "file_extension": ".py",
   "mimetype": "text/x-python",
   "name": "python",
   "nbconvert_exporter": "python",
   "pygments_lexer": "ipython2",
   "version": "2.7.11"
  },
  "widgets": {
   "state": {},
   "version": "1.1.2"
  }
 },
 "nbformat": 4,
 "nbformat_minor": 0
}
